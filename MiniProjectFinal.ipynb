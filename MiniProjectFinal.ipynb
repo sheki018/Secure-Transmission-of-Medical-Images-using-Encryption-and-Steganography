{
  "nbformat": 4,
  "nbformat_minor": 0,
  "metadata": {
    "colab": {
      "name": "MiniProject.ipynb",
      "provenance": [],
      "authorship_tag": "ABX9TyM3YAQrqnDF+kPJiTMU/WzO",
      "include_colab_link": true
    },
    "kernelspec": {
      "name": "python3",
      "display_name": "Python 3"
    },
    "language_info": {
      "name": "python"
    }
  },
  "cells": [
    {
      "cell_type": "markdown",
      "metadata": {
        "id": "view-in-github",
        "colab_type": "text"
      },
      "source": [
        "<a href=\"https://colab.research.google.com/github/sheki018/mini-project/blob/main/MiniProjectFinal.ipynb\" target=\"_parent\"><img src=\"https://colab.research.google.com/assets/colab-badge.svg\" alt=\"Open In Colab\"/></a>"
      ]
    },
    {
      "cell_type": "markdown",
      "source": [
        "## **INSTALL AND IMPORT MODULES**"
      ],
      "metadata": {
        "id": "Kl6RZKWPfBKd"
      }
    },
    {
      "cell_type": "code",
      "source": [
        "!pip uninstall crypto\n",
        "!pip uninstall pycryptodome\n",
        "!pip install pycryptodome\n"
      ],
      "metadata": {
        "colab": {
          "base_uri": "https://localhost:8080/"
        },
        "id": "zgvVFgKGU-ad",
        "outputId": "ec6a6f13-c425-4bad-d147-c5fa267636a2"
      },
      "execution_count": 1,
      "outputs": [
        {
          "output_type": "stream",
          "name": "stdout",
          "text": [
            "\u001b[33mWARNING: Skipping crypto as it is not installed.\u001b[0m\n",
            "\u001b[33mWARNING: Skipping pycryptodome as it is not installed.\u001b[0m\n",
            "Looking in indexes: https://pypi.org/simple, https://us-python.pkg.dev/colab-wheels/public/simple/\n",
            "Collecting pycryptodome\n",
            "  Downloading pycryptodome-3.14.1-cp35-abi3-manylinux2010_x86_64.whl (2.0 MB)\n",
            "\u001b[K     |████████████████████████████████| 2.0 MB 5.1 MB/s \n",
            "\u001b[?25hInstalling collected packages: pycryptodome\n",
            "Successfully installed pycryptodome-3.14.1\n"
          ]
        }
      ]
    },
    {
      "cell_type": "code",
      "source": [
        "!pip install cryptography"
      ],
      "metadata": {
        "colab": {
          "base_uri": "https://localhost:8080/"
        },
        "id": "h8DG-oyLVUHe",
        "outputId": "b749598a-0db1-44fd-9e3a-bd8f90ffe3a7"
      },
      "execution_count": 2,
      "outputs": [
        {
          "output_type": "stream",
          "name": "stdout",
          "text": [
            "Looking in indexes: https://pypi.org/simple, https://us-python.pkg.dev/colab-wheels/public/simple/\n",
            "Collecting cryptography\n",
            "  Downloading cryptography-37.0.2-cp36-abi3-manylinux_2_24_x86_64.whl (4.0 MB)\n",
            "\u001b[K     |████████████████████████████████| 4.0 MB 5.6 MB/s \n",
            "\u001b[?25hRequirement already satisfied: cffi>=1.12 in /usr/local/lib/python3.7/dist-packages (from cryptography) (1.15.0)\n",
            "Requirement already satisfied: pycparser in /usr/local/lib/python3.7/dist-packages (from cffi>=1.12->cryptography) (2.21)\n",
            "Installing collected packages: cryptography\n",
            "Successfully installed cryptography-37.0.2\n"
          ]
        }
      ]
    },
    {
      "cell_type": "code",
      "execution_count": 3,
      "metadata": {
        "id": "7H_JI4WONVkZ"
      },
      "outputs": [],
      "source": [
        "from hashlib import sha256\n",
        "import base64\n",
        "from Crypto import Random\n",
        "from Crypto.Cipher import AES\n",
        "import pandas as pd\n",
        "from cryptography.hazmat.backends import default_backend\n",
        "from cryptography.hazmat.primitives.asymmetric import rsa\n",
        "from cryptography.hazmat.primitives import serialization\n",
        "from cryptography.hazmat.primitives.serialization import load_pem_private_key\n",
        "from cryptography.hazmat.primitives.serialization import load_pem_public_key\n",
        "from cryptography.hazmat.primitives.asymmetric import rsa\n",
        "from cryptography.hazmat.primitives.asymmetric import padding\n",
        "from cryptography.exceptions import InvalidSignature\n",
        "from cryptography.hazmat.primitives import serialization, hashes"
      ]
    },
    {
      "cell_type": "code",
      "source": [
        "!pip install stepic"
      ],
      "metadata": {
        "colab": {
          "base_uri": "https://localhost:8080/"
        },
        "id": "46M8Dd5CVi_W",
        "outputId": "f6501b1a-1c9c-4566-b134-11b6419b88a0"
      },
      "execution_count": 4,
      "outputs": [
        {
          "output_type": "stream",
          "name": "stdout",
          "text": [
            "Looking in indexes: https://pypi.org/simple, https://us-python.pkg.dev/colab-wheels/public/simple/\n",
            "Collecting stepic\n",
            "  Downloading stepic-0.5.0.tar.gz (219 kB)\n",
            "\u001b[K     |████████████████████████████████| 219 kB 5.1 MB/s \n",
            "\u001b[?25hRequirement already satisfied: pillow in /usr/local/lib/python3.7/dist-packages (from stepic) (7.1.2)\n",
            "Building wheels for collected packages: stepic\n",
            "  Building wheel for stepic (setup.py) ... \u001b[?25l\u001b[?25hdone\n",
            "  Created wheel for stepic: filename=stepic-0.5.0-py3-none-any.whl size=12428 sha256=71bd045493df517a28956455c00cb9ba0771e63cd48d335934604a75388ecaa8\n",
            "  Stored in directory: /root/.cache/pip/wheels/47/8d/57/322e721ace59cf72d328242bbc636e6affc672344cf5480f33\n",
            "Successfully built stepic\n",
            "Installing collected packages: stepic\n",
            "Successfully installed stepic-0.5.0\n"
          ]
        }
      ]
    },
    {
      "cell_type": "markdown",
      "source": [
        "## **KEY GENERATION**"
      ],
      "metadata": {
        "id": "36ybphOYe8P9"
      }
    },
    {
      "cell_type": "code",
      "source": [
        "def gen_key():\n",
        "    private_key = rsa.generate_private_key(\n",
        "        public_exponent=65537, key_size=2048, backend=default_backend())\n",
        "    \n",
        "    public_key = private_key.public_key()\n",
        "    return private_key, public_key\n",
        "\n",
        "\n",
        "def save_pvkey(pk, filename):\n",
        "    pem = pk.private_bytes(\n",
        "        encoding=serialization.Encoding.PEM,\n",
        "        format=serialization.PrivateFormat.TraditionalOpenSSL,\n",
        "        encryption_algorithm=serialization.NoEncryption()\n",
        "    )\n",
        "    with open(filename, 'wb') as pem_out:\n",
        "        pem_out.write(pem)\n",
        "        \n",
        "def save_pukey(pk, filename):        \n",
        "    pem = public_key.public_bytes(\n",
        "    encoding=serialization.Encoding.PEM,\n",
        "    format=serialization.PublicFormat.SubjectPublicKeyInfo\n",
        "    )\n",
        "    with open(filename, 'wb') as pem_out:\n",
        "        pem_out.write(pem)\n",
        "\n",
        "private_key, public_key = gen_key()\n",
        "\n",
        "save_pvkey(private_key, 'private_key')\n",
        "save_pukey(public_key, 'public_key')\n",
        "print(\"private key and public key generated.\")"
      ],
      "metadata": {
        "colab": {
          "base_uri": "https://localhost:8080/"
        },
        "id": "TGiJa9dPNhor",
        "outputId": "88496194-2296-4a43-e0b8-2566b2e22996"
      },
      "execution_count": 5,
      "outputs": [
        {
          "output_type": "stream",
          "name": "stdout",
          "text": [
            "private key and public key generated.\n"
          ]
        }
      ]
    },
    {
      "cell_type": "markdown",
      "source": [
        "## **SENDER END**"
      ],
      "metadata": {
        "id": "JJXtkvsle2YF"
      }
    },
    {
      "cell_type": "code",
      "source": [
        "from hashlib import sha256\n",
        "import base64\n",
        "from Crypto import Random\n",
        "from Crypto.Cipher import AES\n",
        "import pandas as pd\n",
        "from cryptography.hazmat.primitives.serialization import load_pem_private_key\n",
        "from cryptography.hazmat.primitives.serialization import load_pem_public_key\n",
        "from cryptography.hazmat.backends import default_backend\n",
        "from cryptography.hazmat.primitives.asymmetric import rsa\n",
        "from cryptography.exceptions import InvalidSignature\n",
        "from cryptography.hazmat.primitives import serialization, hashes\n",
        "from cryptography.hazmat.primitives.asymmetric import padding\n",
        "from PIL import Image\n",
        "import stepic"
      ],
      "metadata": {
        "id": "njnObyesOoSY"
      },
      "execution_count": 6,
      "outputs": []
    },
    {
      "cell_type": "markdown",
      "source": [
        "# **DNA CRYPTO**"
      ],
      "metadata": {
        "id": "glTPEKsFfTef"
      }
    },
    {
      "cell_type": "code",
      "source": [
        "DNA_data = { \"words\":[\"A\",\"B\",\"C\",\"D\",\"E\",\"F\",\"G\",\"H\",\"I\",\"J\",\"K\",\"L\",\"M\",\"N\",\"O\",\"P\",\"Q\",\"R\",\"S\",\"T\",\"U\",\"V\",\"W\",\n",
        "                   \"X\",\"Y\",\"Z\",\" \",\",\",\".\",\":\",\"0\",\"1\",\"2\",\"3\",\"4\",\"5\",\"6\",\"7\",\"8\",\"9\"],\n",
        "            \"DNA_code\": [\"CGA\",\"CCA\",\"GTT\",\"TTG\",\"GGC\",\"GGT\",\"TTT\",\"CGC\",\"ATG\",\"AGT\",\"AAG\",\"TGC\",\"TCC\",\"TCT\",\"GGA\",\"GTG\",\n",
        "                         \"AAC\",\"TCA\",\"ACG\",\"TTC\",\"CTG\",\"CCT\",\"CCG\",\"CTA\",\"AAA\",\"CTT\",\"ACC\",\"TCG\",\"GAT\",\"GCT\",\"ACT\",\"TAG\",\n",
        "                         \"ATA\",\"GCA\",\"GAG\",\"AGA\",\"TTA\",\"ACA\",\"AGG\",\"GCG\"]\n",
        "           }\n",
        "\n",
        "DNA_df = pd.DataFrame.from_dict(DNA_data)\n",
        "#print(DNA_df)\n",
        "\n",
        "message = input(\"Please enter your message: \")\n",
        "#Name : George Mendes, Gender : Male, Birthdate : 5.9.1995, SSN : 15657834939, Medical History : Diabetes, Diagnosis : broken arm\n",
        "DNA_crypto_message = \"\"\n",
        "word = message.upper()\n",
        "\n",
        "\n",
        "for i in word:\n",
        "    DNA_crypto_message+= str(DNA_df.loc[ DNA_df['words'] == i , 'DNA_code' ].iloc[0])\n",
        "    \n",
        "print(DNA_crypto_message)"
      ],
      "metadata": {
        "colab": {
          "base_uri": "https://localhost:8080/"
        },
        "id": "-gN5bCXAVg_j",
        "outputId": "4b4d726d-3c6d-45db-a10e-183031cba57e"
      },
      "execution_count": 24,
      "outputs": [
        {
          "output_type": "stream",
          "name": "stdout",
          "text": [
            "Please enter your message: Name : George Mendes, Gender : Male, Birthdate : 5.9.1995, SSN : 15657834939, Medical History : Diabetes, Diagnosis : broken arm\n",
            "TCTCGATCCGGCACCGCTACCTTTGGCGGATCATTTGGCACCTCCGGCTCTTTGGGCACGTCGACCTTTGGCTCTTTGGGCTCAACCGCTACCTCCCGATGCGGCTCGACCCCAATGTCATTCCGCTTGCGATTCGGCACCGCTACCAGAGATGCGGATTAGGCGGCGAGATCGACCACGACGTCTACCGCTACCTAGAGATTAAGAACAAGGGCAGAGGCGGCAGCGTCGACCTCCGGCTTGATGGTTCGATGCACCCGCATGACGTTCGGATCAAAAACCGCTACCTTGATGCGACCAGGCTTCGGCACGTCGACCTTGATGCGATTTTCTGGAACGATGACGACCGCTACCCCATCAGGAAAGGGCTCTACCCGATCATCC\n"
          ]
        }
      ]
    },
    {
      "cell_type": "markdown",
      "source": [
        "# **AES CRYPTO**"
      ],
      "metadata": {
        "id": "8nqytlxCfesM"
      }
    },
    {
      "cell_type": "code",
      "source": [
        "#block size =16\n",
        "#AES-128\n",
        "BS = 16\n",
        "#data should be a multiple of 16 bytes n length. Pad the buffer if it is not and include the size of the data at the beginning of the output.\n",
        "pad = lambda s: bytes(s + (BS - len(s) % BS) * chr(BS - len(s) % BS), 'utf-8')\n",
        "unpad = lambda s : s[0:-ord(s[-1:])]\n",
        "\n",
        "class AESCipher:\n",
        "\n",
        "    def __init__( self, key ):\n",
        "        #generate key\n",
        "        self.key = bytes(key, 'utf-8')\n",
        "\n",
        "    def encrypt( self, raw ):\n",
        "        raw = pad(raw)\n",
        "        #initialization vector - 16 bytes\n",
        "        iv = Random.new().read( AES.block_size )\n",
        "        #MODE_CBC - cipher-block chaining - each plaintext block gets XOR-ed with the previous ciphertext prior to encryption\n",
        "        cipher = AES.new(self.key, AES.MODE_CBC, iv )\n",
        "        return base64.b64encode( iv + cipher.encrypt( raw ) )\n",
        "\n",
        "cipher = AESCipher('LKHlhb899Y09olUi')\n",
        "AES_encrypted_message = cipher.encrypt(DNA_crypto_message)\n",
        "\n",
        "print(AES_encrypted_message)"
      ],
      "metadata": {
        "colab": {
          "base_uri": "https://localhost:8080/"
        },
        "id": "JyL5FZV7VrfM",
        "outputId": "a219fef0-29de-474a-8eba-917521d17140"
      },
      "execution_count": 30,
      "outputs": [
        {
          "output_type": "stream",
          "name": "stdout",
          "text": [
            "b'DB0/gAlilqNt22n0w2m2Ni32U2fBYlVO+Vb0D8Z+nOxmv+DgPOFULpB6sopyE27jgY3+n3m5pK3iOfKZSSTMc8KjGbxaayDNi1Zw0tDv3UkEKboUOANoHKGoUFIK/0c1GZCqTkDBZsLHGgQV5iDWXChdUvg5HpvdqPH1Pyjiz6vunkoYYSrgD1aVH0phnbGuUw38W3OZEfvOBbPxlff+T4cL/MPWeCdPr7G1X6HJ6/Gut5JYaKlUA4E4lUSpzVQl4QTuDmi7RbWc3/e5KvAT3cDtHh3S7BZ2wtK5ysRx530WCR1+U/jFG5WqC5Gza9NB1pKfTGtG5m8w5OcHgrP6amnaKY6yhkOligr/oHKR/EqnJ0SekHqxvo5Fkq7gmqzM6eImrw6kVoVPTi1iEjepClEGqKfIPdINwHPYQysty3jq/y3ytpNylXfcJDJ+g04u8atlFv88iG46R5aWdu1wR0ECmfc+UXb/jAQTyKgdEhdSdPGFcGyY0SVmuJmmFL/Uzpve7tPF8ZwclAaKDQe/xZQtl3ngfp99NiG/vwT4Xdg='\n"
          ]
        }
      ]
    },
    {
      "cell_type": "markdown",
      "source": [
        "# **DIGITAL SIGNATURE**"
      ],
      "metadata": {
        "id": "6zNdrE8SflPN"
      }
    },
    {
      "cell_type": "code",
      "source": [
        "def load_pvkey(filename):\n",
        "    with open(filename, 'rb') as pem_in:\n",
        "        pemlines = pem_in.read()\n",
        "        \n",
        "    private_key = load_pem_private_key(pemlines, None, default_backend())\n",
        "    return private_key\n",
        "\n",
        "message = AES_encrypted_message\n",
        "private_key = load_pvkey(\"private_key\")\n",
        "signature = private_key.sign(message, padding.PSS(mgf=padding.MGF1(hashes.SHA256()),\n",
        "                                                  salt_length=padding.PSS.MAX_LENGTH),hashes.SHA256())\n",
        "# signature"
      ],
      "metadata": {
        "id": "6Qo1miM8VvIQ"
      },
      "execution_count": 31,
      "outputs": []
    },
    {
      "cell_type": "markdown",
      "source": [
        "# **SECRET MESSAGE GENERATION**"
      ],
      "metadata": {
        "id": "8wnFNbxCfpKo"
      }
    },
    {
      "cell_type": "code",
      "source": [
        "im = Image.open('original_image.jpg')\n",
        "#Encode some text into your Image file and save it in another file\n",
        "secret_msg = AES_encrypted_message + bytes(\"SIGNATURE\", 'utf-8') + signature\n"
      ],
      "metadata": {
        "id": "KaaVFUX1Vx6R"
      },
      "execution_count": 50,
      "outputs": []
    },
    {
      "cell_type": "markdown",
      "source": [
        "# **LSB STEGANOGRAPHY**"
      ],
      "metadata": {
        "id": "bLvR95zUfv02"
      }
    },
    {
      "cell_type": "code",
      "source": [
        "im1 = stepic.encode(im, secret_msg)\n",
        "im1.save('encoded_image.png', 'PNG')"
      ],
      "metadata": {
        "id": "15wFPnyyeBeG"
      },
      "execution_count": 51,
      "outputs": []
    },
    {
      "cell_type": "code",
      "source": [
        "import cv2\n",
        "import numpy as np\n",
        "from math import log10,sqrt\n",
        "def PSNR(original, steg): \n",
        "    mse = np.mean((original - steg) ** 2) \n",
        "    if(mse == 0): \n",
        "        return 100\n",
        "    max_pixel = 255.0\n",
        "    psnr = 20 * log10(max_pixel / sqrt(mse)) \n",
        "    return psnr \n",
        "\n",
        "original=cv2.imread(\"original_image.jpg\")\n",
        "steg=cv2.imread(\"encoded_image.png\")  \n",
        "value = PSNR(original,steg)\n",
        "\n",
        "print(f\"PSNR value:  {value} dB\")"
      ],
      "metadata": {
        "colab": {
          "base_uri": "https://localhost:8080/"
        },
        "id": "JJLuj9VpNqbb",
        "outputId": "442af230-3425-4650-f607-c3b8cd464606"
      },
      "execution_count": 52,
      "outputs": [
        {
          "output_type": "stream",
          "name": "stdout",
          "text": [
            "PSNR value:  64.29987343249178 dB\n"
          ]
        }
      ]
    },
    {
      "cell_type": "markdown",
      "source": [
        "# **IMAGE COMPRESSION**"
      ],
      "metadata": {
        "id": "qUWCIdswJCNO"
      }
    },
    {
      "cell_type": "code",
      "source": [
        "import sys, os, time, numpy, pywt\n",
        "import matplotlib.pyplot as plt\n",
        "from PIL import Image\n",
        "\n",
        "def wavelet_transform(data, threshold):\n",
        "    wavelet_type = 'haar'\n",
        "    clean_coef = list()\n",
        "    compose = list()\n",
        "\n",
        "    cA2, cD2, cD1 = pywt.wavedec2(data, wavelet_type, level=2)\n",
        "    clean_coef.append(cA2)\n",
        "    clean_coef.append(cD2)\n",
        "\n",
        "    for c in cD1:\n",
        "        compose.append(numpy.where(((c<(-threshold)) | (c>threshold)), c, 0))\n",
        "    clean_coef.append(tuple(compose))\n",
        "\n",
        "    t = pywt.waverec2(clean_coef, wavelet_type)\n",
        "    values = t.astype(int)\n",
        "    return values\n",
        "\n",
        "def create_image(image, values, threshold):\n",
        "    matrix = list()\n",
        "    for value in values:\n",
        "        row = list()\n",
        "        for v in value:\n",
        "            row.append((int(v), int(v), int(v)))\n",
        "        matrix.append(row)\n",
        "\n",
        "    width, height = image.size\n",
        "    new_image = Image.new('RGB', (width, height))\n",
        "    new = new_image.load()\n",
        "    for w in range(width):\n",
        "        for h in range(height):\n",
        "            new[w, h] = matrix[h][w]\n",
        "\n",
        "    image_name = str(threshold) + '.png'\n",
        "    new_image.save(image_name)\n",
        "    return new_image\n",
        "\n",
        "def grayscale(image):\n",
        "    width, height = image.size\n",
        "    pixels = image.load()\n",
        "\n",
        "    for w in range(width):\n",
        "        for h in range(height):\n",
        "            r, g, b = pixels[w, h]\n",
        "            gray = (r+g+b)//3\n",
        "            pixels[w, h] = (gray, gray, gray)\n",
        "    return image\n",
        "\n",
        "def get_rows_values(image):\n",
        "    width, height = image.size\n",
        "    pixels = image.load()\n",
        "    matrix = list()\n",
        "\n",
        "    for j in range(height):\n",
        "        row = list()\n",
        "        for i in range(width):\n",
        "            pixel_value = pixels[i, j][0]\n",
        "            row.append(pixel_value)\n",
        "        matrix.append(row)\n",
        "\n",
        "    array = numpy.array(matrix)\n",
        "    return array\n",
        "\n",
        "def compress(image_path, threshold):\n",
        "    image = Image.open(image_path).convert('RGB')\n",
        "    image = grayscale(image)\n",
        "\n",
        "    data = get_rows_values(image)\n",
        "    values = wavelet_transform(data, threshold)\n",
        "\n",
        "    newimage = create_image(image, values, threshold)\n",
        "    return compressed_percentage(image_path, threshold)\n",
        "\n",
        "def compressed_percentage(image_path, threshold):\n",
        "    original_size = os.path.getsize(image_path)\n",
        "    image_name = str(threshold) + '.png'\n",
        "    final_size = os.path.getsize(image_name)\n",
        "    percentage = 100 - (final_size*100)//float(original_size)\n",
        "    print ('Image compressed at %0.2f%%' % percentage)\n",
        "    return percentage\n",
        "\n",
        "def main():\n",
        "    image_path = \"encoded_image.png\"\n",
        "\n",
        "    time_list = list()\n",
        "    percentages_list = list()\n",
        "    thresholds_list = list()\n",
        "    for threshold in range(0, 200, 20):\n",
        "        start_time = time.time()\n",
        "        compressed_percentage = compress(image_path, threshold)\n",
        "        end_time = time.time()\n",
        "        process_time = end_time - start_time\n",
        "        time_list.append(process_time)\n",
        "        percentages_list.append(compressed_percentage)\n",
        "        thresholds_list.append(threshold)\n",
        "\n",
        "    p = plt.plot(thresholds_list, percentages_list, 'bo-', label='Percentage')\n",
        "    plt.legend(loc='upper left', numpoints=1)\n",
        "    plt.ylabel('Percentage')\n",
        "    plt.xlabel('Threshold value')\n",
        "    plt.title('Percentage vs. Threshold value')\n",
        "    plt.show()\n",
        "\n",
        "    average_time = sum(time_list)//len(time_list)\n",
        "    print ('The average time is', average_time)\n",
        "\n",
        "if __name__ == '__main__':\n",
        "    main()"
      ],
      "metadata": {
        "colab": {
          "base_uri": "https://localhost:8080/",
          "height": 486
        },
        "id": "H171B9bKqR4R",
        "outputId": "a098d5d9-49e1-41e5-c879-cea03bf16a2b"
      },
      "execution_count": 56,
      "outputs": [
        {
          "output_type": "stream",
          "name": "stdout",
          "text": [
            "Image compressed at 5.00%\n",
            "Image compressed at 46.00%\n",
            "Image compressed at 58.00%\n",
            "Image compressed at 62.00%\n",
            "Image compressed at 65.00%\n",
            "Image compressed at 67.00%\n",
            "Image compressed at 68.00%\n",
            "Image compressed at 69.00%\n",
            "Image compressed at 69.00%\n",
            "Image compressed at 69.00%\n"
          ]
        },
        {
          "output_type": "display_data",
          "data": {
            "text/plain": [
              "<Figure size 432x288 with 1 Axes>"
            ],
            "image/png": "[encoded data removed]"
          },
          "metadata": {
            "needs_background": "light"
          }
        },
        {
          "output_type": "stream",
          "name": "stdout",
          "text": [
            "The average time is 0.0\n"
          ]
        }
      ]
    },
    {
      "cell_type": "code",
      "source": [
        "import cv2\n",
        "import numpy as np\n",
        "from math import log10,sqrt\n",
        "def PSNR(original, steg): \n",
        "    mse = np.mean((original - steg) ** 2) \n",
        "    if(mse == 0): \n",
        "        return 100\n",
        "    max_pixel = 255.0\n",
        "    psnr = 20 * log10(max_pixel / sqrt(mse)) \n",
        "    return psnr \n",
        "\n",
        "original=cv2.imread(\"original_image.jpg\")\n",
        "steg=cv2.imread(\"180.png\")  \n",
        "value = PSNR(original,steg)\n",
        "\n",
        "print(f\"PSNR value:  {value} dB\")"
      ],
      "metadata": {
        "colab": {
          "base_uri": "https://localhost:8080/"
        },
        "id": "6vUPIfGR4bmI",
        "outputId": "faa602a8-9134-4286-f65f-3c23d7b2bc5c"
      },
      "execution_count": 71,
      "outputs": [
        {
          "output_type": "stream",
          "name": "stdout",
          "text": [
            "PSNR value:  33.02209674695082 dB\n"
          ]
        }
      ]
    },
    {
      "cell_type": "markdown",
      "source": [
        "## **TARGET END**"
      ],
      "metadata": {
        "id": "nvcNph3KepBz"
      }
    },
    {
      "cell_type": "code",
      "source": [
        "from hashlib import sha256\n",
        "import base64\n",
        "from Crypto import Random\n",
        "from Crypto.Cipher import AES\n",
        "import pandas as pd\n",
        "from cryptography.hazmat.primitives.serialization import load_pem_private_key\n",
        "from cryptography.hazmat.primitives.serialization import load_pem_public_key\n",
        "from cryptography.hazmat.backends import default_backend\n",
        "from cryptography.hazmat.primitives.asymmetric import rsa\n",
        "from cryptography.exceptions import InvalidSignature\n",
        "from cryptography.hazmat.primitives import serialization, hashes\n",
        "from cryptography.hazmat.primitives.asymmetric import padding\n",
        "from PIL import Image\n",
        "import stepic"
      ],
      "metadata": {
        "id": "Mk3ZoApgWOU0"
      },
      "execution_count": 57,
      "outputs": []
    },
    {
      "cell_type": "markdown",
      "source": [
        "# **SIGNATURE AND MESSAGE DECODING**"
      ],
      "metadata": {
        "id": "L1cdCKNAf8Ot"
      }
    },
    {
      "cell_type": "code",
      "source": [
        "im = Image.open('encoded_image.png')\n",
        "stegoImage = stepic.decode(im)\n",
        "\n",
        "ind_sep = stegoImage.find('SIGNATURE')\n",
        "message = bytes(stegoImage[:ind_sep],'utf-8')\n",
        "signature = bytes(stegoImage[ind_sep+9:], 'latin1')"
      ],
      "metadata": {
        "id": "eiPK_3anWqTv"
      },
      "execution_count": 60,
      "outputs": []
    },
    {
      "cell_type": "markdown",
      "source": [
        "# **VERIFY DIGITAL SIGNATURE**"
      ],
      "metadata": {
        "id": "D-ioi4-OgD21"
      }
    },
    {
      "cell_type": "code",
      "source": [
        "def load_pukey(filename):\n",
        "    with open(filename, 'rb') as pem_in:\n",
        "        pemlines = pem_in.read()\n",
        "    public_key = load_pem_public_key(pemlines, default_backend())\n",
        "    return public_key\n",
        "\n",
        "public_key = load_pukey(\"public_key\")\n",
        "try:\n",
        "    public_key.verify(signature, message, padding.PSS(mgf=padding.MGF1(hashes.SHA256()), \n",
        "                                                  salt_length=padding.PSS.MAX_LENGTH),hashes.SHA256())\n",
        "    print(message)\n",
        "except InvalidSignature:\n",
        "    print('Invalid!')"
      ],
      "metadata": {
        "colab": {
          "base_uri": "https://localhost:8080/"
        },
        "id": "e92Z0mh7WwQf",
        "outputId": "65f9c619-d041-4ba1-8168-b9918bd6e37b"
      },
      "execution_count": 61,
      "outputs": [
        {
          "output_type": "stream",
          "name": "stdout",
          "text": [
            "b'DB0/gAlilqNt22n0w2m2Ni32U2fBYlVO+Vb0D8Z+nOxmv+DgPOFULpB6sopyE27jgY3+n3m5pK3iOfKZSSTMc8KjGbxaayDNi1Zw0tDv3UkEKboUOANoHKGoUFIK/0c1GZCqTkDBZsLHGgQV5iDWXChdUvg5HpvdqPH1Pyjiz6vunkoYYSrgD1aVH0phnbGuUw38W3OZEfvOBbPxlff+T4cL/MPWeCdPr7G1X6HJ6/Gut5JYaKlUA4E4lUSpzVQl4QTuDmi7RbWc3/e5KvAT3cDtHh3S7BZ2wtK5ysRx530WCR1+U/jFG5WqC5Gza9NB1pKfTGtG5m8w5OcHgrP6amnaKY6yhkOligr/oHKR/EqnJ0SekHqxvo5Fkq7gmqzM6eImrw6kVoVPTi1iEjepClEGqKfIPdINwHPYQysty3jq/y3ytpNylXfcJDJ+g04u8atlFv88iG46R5aWdu1wR0ECmfc+UXb/jAQTyKgdEhdSdPGFcGyY0SVmuJmmFL/Uzpve7tPF8ZwclAaKDQe/xZQtl3ngfp99NiG/vwT4Xdg='\n"
          ]
        }
      ]
    },
    {
      "cell_type": "markdown",
      "source": [
        "# **AES DECODING**"
      ],
      "metadata": {
        "id": "VHhbs6DDgNsF"
      }
    },
    {
      "cell_type": "code",
      "source": [
        "BS = 16\n",
        "pad = lambda s: bytes(s + (BS - len(s) % BS) * chr(BS - len(s) % BS), 'utf-8')\n",
        "unpad = lambda s : s[0:-ord(s[-1:])]\n",
        "\n",
        "class AESCipher:\n",
        "\n",
        "    def __init__( self, key ):\n",
        "        self.key = bytes(key, 'utf-8')\n",
        "\n",
        "    def decrypt( self, enc ):\n",
        "        enc = base64.b64decode(enc)\n",
        "        iv = enc[:16]\n",
        "        cipher = AES.new(self.key, AES.MODE_CBC, iv )\n",
        "        return unpad(cipher.decrypt( enc[16:] )).decode('utf8')\n",
        "\n",
        "cipher = AESCipher('LKHlhb899Y09olUi')\n",
        "AES_decrypted = cipher.decrypt(message)\n",
        "\n",
        "print(AES_decrypted)"
      ],
      "metadata": {
        "colab": {
          "base_uri": "https://localhost:8080/"
        },
        "id": "sjIEXe_hW3OP",
        "outputId": "a60734d7-c8cb-4ec6-88be-ed100c088016"
      },
      "execution_count": 62,
      "outputs": [
        {
          "output_type": "stream",
          "name": "stdout",
          "text": [
            "TCTCGATCCGGCACCGCTACCTTTGGCGGATCATTTGGCACCTCCGGCTCTTTGGGCACGTCGACCTTTGGCTCTTTGGGCTCAACCGCTACCTCCCGATGCGGCTCGACCCCAATGTCATTCCGCTTGCGATTCGGCACCGCTACCAGAGATGCGGATTAGGCGGCGAGATCGACCACGACGTCTACCGCTACCTAGAGATTAAGAACAAGGGCAGAGGCGGCAGCGTCGACCTCCGGCTTGATGGTTCGATGCACCCGCATGACGTTCGGATCAAAAACCGCTACCTTGATGCGACCAGGCTTCGGCACGTCGACCTTGATGCGATTTTCTGGAACGATGACGACCGCTACCCCATCAGGAAAGGGCTCTACCCGATCATCC\n"
          ]
        }
      ]
    },
    {
      "cell_type": "markdown",
      "source": [
        "# **DNA DECODING**"
      ],
      "metadata": {
        "id": "-qOv6655gReK"
      }
    },
    {
      "cell_type": "code",
      "source": [
        "DNA_data = { \"words\":[\"A\",\"B\",\"C\",\"D\",\"E\",\"F\",\"G\",\"H\",\"I\",\"J\",\"K\",\"L\",\"M\",\"N\",\"O\",\"P\",\"Q\",\"R\",\"S\",\"T\",\"U\",\"V\",\"W\",\n",
        "                   \"X\",\"Y\",\"Z\",\" \",\",\",\".\",\":\",\"0\",\"1\",\"2\",\"3\",\"4\",\"5\",\"6\",\"7\",\"8\",\"9\"],\n",
        "            \"DNA_code\": [\"CGA\",\"CCA\",\"GTT\",\"TTG\",\"GGC\",\"GGT\",\"TTT\",\"CGC\",\"ATG\",\"AGT\",\"AAG\",\"TGC\",\"TCC\",\"TCT\",\"GGA\",\"GTG\",\n",
        "                         \"AAC\",\"TCA\",\"ACG\",\"TTC\",\"CTG\",\"CCT\",\"CCG\",\"CTA\",\"AAA\",\"CTT\",\"ACC\",\"TCG\",\"GAT\",\"GCT\",\"ACT\",\"TAG\",\n",
        "                         \"ATA\",\"GCA\",\"GAG\",\"AGA\",\"TTA\",\"ACA\",\"AGG\",\"GCG\"]\n",
        "           }\n",
        "\n",
        "DNA_df = pd.DataFrame.from_dict(DNA_data)\n",
        "\n",
        "l = [AES_decrypted[i:i+3] for i in range(0, len(AES_decrypted), 3)]\n",
        "\n",
        "original_message = \"\"\n",
        "for i in l:\n",
        "    original_message+= str(DNA_df.loc[ DNA_df['DNA_code'] == i , 'words' ].iloc[0])\n",
        "print(\"The secret message is: \",original_message.lower())"
      ],
      "metadata": {
        "colab": {
          "base_uri": "https://localhost:8080/"
        },
        "id": "66kOZw63W5p3",
        "outputId": "4c07e818-79d2-49c1-b3f6-325944a484fb"
      },
      "execution_count": 64,
      "outputs": [
        {
          "output_type": "stream",
          "name": "stdout",
          "text": [
            "The secret message is:  name : george mendes, gender : male, birthdate : 5.9.1995, ssn : 15657834939, medical history : diabetes, diagnosis : broken arm\n"
          ]
        }
      ]
    },
    {
      "cell_type": "code",
      "source": [
        ""
      ],
      "metadata": {
        "id": "OL-VEMY4W792"
      },
      "execution_count": null,
      "outputs": []
    }
  ]
}